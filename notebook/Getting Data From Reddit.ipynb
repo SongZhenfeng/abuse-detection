{
 "cells": [
  {
   "cell_type": "code",
   "execution_count": 139,
   "metadata": {},
   "outputs": [],
   "source": [
    "import praw\n",
    "import pandas as pd\n",
    "import re\n",
    "from datetime import datetime"
   ]
  },
  {
   "cell_type": "code",
   "execution_count": 140,
   "metadata": {},
   "outputs": [],
   "source": [
    "reddit = praw.Reddit(client_id = \"\",\n",
    "                    client_secret = \"\",\n",
    "                    username = \"\",\n",
    "                    password = \"\",\n",
    "                    user_agent = \"\")"
   ]
  },
  {
   "cell_type": "code",
   "execution_count": 141,
   "metadata": {},
   "outputs": [],
   "source": [
    "hot_posts = reddit.subreddit('all').hot(limit=100)"
   ]
  },
  {
   "cell_type": "code",
   "execution_count": 115,
   "metadata": {},
   "outputs": [],
   "source": [
    "reddit_comments = { \"subreddit\":[], \n",
    "                \"subreddit_id\":[], \n",
    "                \"num_reports\": [], \n",
    "                 \"report_reasons\":[],  \n",
    "                \"created\": [], \n",
    "                \"body\":[]}"
   ]
  },
  {
   "cell_type": "code",
   "execution_count": 116,
   "metadata": {},
   "outputs": [],
   "source": [
    "for submission in hot_posts:\n",
    "         submission.comments.replace_more(limit=0)\n",
    "         for comment in submission.comments.list():\n",
    "            reddit_comments[\"subreddit\"].append(comment.subreddit.display_name)\n",
    "            reddit_comments[\"subreddit_id\"].append(comment.subreddit_id)\n",
    "            reddit_comments[\"num_reports\"].append(comment.num_reports)\n",
    "            reddit_comments[\"report_reasons\"].append(comment.report_reasons)\n",
    "            reddit_comments[\"created\"].append(comment.created)\n",
    "            reddit_comments[\"body\"].append(comment.body)"
   ]
  },
  {
   "cell_type": "code",
   "execution_count": 117,
   "metadata": {},
   "outputs": [],
   "source": [
    "comments_data = pd.DataFrame(reddit_comments)"
   ]
  },
  {
   "cell_type": "code",
   "execution_count": 118,
   "metadata": {},
   "outputs": [],
   "source": [
    "def get_date(created):\n",
    "    return datetime.fromtimestamp(created)\n",
    "comments_data[\"created_time\"] = comments_data[\"created\"].apply(get_date)"
   ]
  },
  {
   "cell_type": "code",
   "execution_count": 119,
   "metadata": {},
   "outputs": [
    {
     "data": {
      "text/html": [
       "<div>\n",
       "<style scoped>\n",
       "    .dataframe tbody tr th:only-of-type {\n",
       "        vertical-align: middle;\n",
       "    }\n",
       "\n",
       "    .dataframe tbody tr th {\n",
       "        vertical-align: top;\n",
       "    }\n",
       "\n",
       "    .dataframe thead th {\n",
       "        text-align: right;\n",
       "    }\n",
       "</style>\n",
       "<table border=\"1\" class=\"dataframe\">\n",
       "  <thead>\n",
       "    <tr style=\"text-align: right;\">\n",
       "      <th></th>\n",
       "      <th>subreddit</th>\n",
       "      <th>subreddit_id</th>\n",
       "      <th>num_reports</th>\n",
       "      <th>report_reasons</th>\n",
       "      <th>created</th>\n",
       "      <th>body</th>\n",
       "      <th>created_time</th>\n",
       "    </tr>\n",
       "  </thead>\n",
       "  <tbody>\n",
       "    <tr>\n",
       "      <th>0</th>\n",
       "      <td>HistoryMemes</td>\n",
       "      <td>t5_2v2cd</td>\n",
       "      <td>None</td>\n",
       "      <td>None</td>\n",
       "      <td>1.553417e+09</td>\n",
       "      <td>*D I D N O T C O N T A I N A S I N G L E D R O...</td>\n",
       "      <td>2019-03-24 16:49:22</td>\n",
       "    </tr>\n",
       "    <tr>\n",
       "      <th>1</th>\n",
       "      <td>HistoryMemes</td>\n",
       "      <td>t5_2v2cd</td>\n",
       "      <td>None</td>\n",
       "      <td>None</td>\n",
       "      <td>1.553415e+09</td>\n",
       "      <td>r/cursedgifs</td>\n",
       "      <td>2019-03-24 16:13:52</td>\n",
       "    </tr>\n",
       "    <tr>\n",
       "      <th>2</th>\n",
       "      <td>HistoryMemes</td>\n",
       "      <td>t5_2v2cd</td>\n",
       "      <td>None</td>\n",
       "      <td>None</td>\n",
       "      <td>1.553417e+09</td>\n",
       "      <td>This is a masterpiece</td>\n",
       "      <td>2019-03-24 16:43:38</td>\n",
       "    </tr>\n",
       "    <tr>\n",
       "      <th>3</th>\n",
       "      <td>HistoryMemes</td>\n",
       "      <td>t5_2v2cd</td>\n",
       "      <td>None</td>\n",
       "      <td>None</td>\n",
       "      <td>1.553422e+09</td>\n",
       "      <td>HEART THE SIZE OF A PEPPERCORN</td>\n",
       "      <td>2019-03-24 18:08:48</td>\n",
       "    </tr>\n",
       "    <tr>\n",
       "      <th>4</th>\n",
       "      <td>HistoryMemes</td>\n",
       "      <td>t5_2v2cd</td>\n",
       "      <td>None</td>\n",
       "      <td>None</td>\n",
       "      <td>1.553415e+09</td>\n",
       "      <td>⣿⣷⡶⠚⠉⢀⣤⣾⣿⣿⣿⣿⣿⣿⣿⣿⣿⣿⡿⠋⠠⣴⣿⣿⣿⣿⣶⣤⣤⣤ ⠿⠥⢶⡏⣸⣿⣿⣿⣿⣿⣿⣿⣿⣿⣿...</td>\n",
       "      <td>2019-03-24 16:17:31</td>\n",
       "    </tr>\n",
       "  </tbody>\n",
       "</table>\n",
       "</div>"
      ],
      "text/plain": [
       "      subreddit subreddit_id num_reports report_reasons       created  \\\n",
       "0  HistoryMemes     t5_2v2cd        None           None  1.553417e+09   \n",
       "1  HistoryMemes     t5_2v2cd        None           None  1.553415e+09   \n",
       "2  HistoryMemes     t5_2v2cd        None           None  1.553417e+09   \n",
       "3  HistoryMemes     t5_2v2cd        None           None  1.553422e+09   \n",
       "4  HistoryMemes     t5_2v2cd        None           None  1.553415e+09   \n",
       "\n",
       "                                                body        created_time  \n",
       "0  *D I D N O T C O N T A I N A S I N G L E D R O... 2019-03-24 16:49:22  \n",
       "1                                       r/cursedgifs 2019-03-24 16:13:52  \n",
       "2                              This is a masterpiece 2019-03-24 16:43:38  \n",
       "3                    HEART THE SIZE OF A PEPPERCORN  2019-03-24 18:08:48  \n",
       "4  ⣿⣷⡶⠚⠉⢀⣤⣾⣿⣿⣿⣿⣿⣿⣿⣿⣿⣿⡿⠋⠠⣴⣿⣿⣿⣿⣶⣤⣤⣤ ⠿⠥⢶⡏⣸⣿⣿⣿⣿⣿⣿⣿⣿⣿⣿... 2019-03-24 16:17:31  "
      ]
     },
     "execution_count": 119,
     "metadata": {},
     "output_type": "execute_result"
    }
   ],
   "source": [
    "comments_data.head()"
   ]
  },
  {
   "cell_type": "code",
   "execution_count": 122,
   "metadata": {},
   "outputs": [],
   "source": [
    "comments_data.to_csv(\"reddit_data.csv\")"
   ]
  },
  {
   "cell_type": "code",
   "execution_count": 153,
   "metadata": {},
   "outputs": [],
   "source": [
    "def get_reddit_subreddit_comments(topic, limit_topic = 10):\n",
    "    subreddit = reddit.subreddit(topic).top(limit=limit_topic, time_filter='all')\n",
    "    reddit_comments = { \"subreddit\":[], \n",
    "                \"subreddit_id\":[], \n",
    "                \"num_reports\": [], \n",
    "                 \"report_reasons\":[],  \n",
    "                \"created\": [], \n",
    "                \"body\":[]}\n",
    "    for submission in subreddit:\n",
    "        submission.comments.replace_more(limit=0)\n",
    "        for comment in submission.comments.list():\n",
    "            reddit_comments[\"subreddit\"].append(comment.subreddit.display_name)\n",
    "            reddit_comments[\"subreddit_id\"].append(comment.subreddit_id)\n",
    "            reddit_comments[\"num_reports\"].append(comment.num_reports)\n",
    "            reddit_comments[\"report_reasons\"].append(comment.report_reasons)\n",
    "            reddit_comments[\"created\"].append(comment.created)\n",
    "            reddit_comments[\"body\"].append(comment.body)\n",
    "    comments_data = pd.DataFrame(reddit_comments)\n",
    "    comments_data[\"created_time\"] = comments_data[\"created\"].apply(get_date)\n",
    "    return comments_data"
   ]
  },
  {
   "cell_type": "code",
   "execution_count": 154,
   "metadata": {},
   "outputs": [],
   "source": [
    "toxic_data = get_reddit_subreddit_comments(\"theydidthefuckyou\", 40)"
   ]
  },
  {
   "cell_type": "code",
   "execution_count": 155,
   "metadata": {},
   "outputs": [
    {
     "data": {
      "text/html": [
       "<div>\n",
       "<style scoped>\n",
       "    .dataframe tbody tr th:only-of-type {\n",
       "        vertical-align: middle;\n",
       "    }\n",
       "\n",
       "    .dataframe tbody tr th {\n",
       "        vertical-align: top;\n",
       "    }\n",
       "\n",
       "    .dataframe thead th {\n",
       "        text-align: right;\n",
       "    }\n",
       "</style>\n",
       "<table border=\"1\" class=\"dataframe\">\n",
       "  <thead>\n",
       "    <tr style=\"text-align: right;\">\n",
       "      <th></th>\n",
       "      <th>subreddit</th>\n",
       "      <th>subreddit_id</th>\n",
       "      <th>num_reports</th>\n",
       "      <th>report_reasons</th>\n",
       "      <th>created</th>\n",
       "      <th>body</th>\n",
       "      <th>created_time</th>\n",
       "    </tr>\n",
       "  </thead>\n",
       "  <tbody>\n",
       "    <tr>\n",
       "      <th>0</th>\n",
       "      <td>theydidthefuckyou</td>\n",
       "      <td>t5_32jwi</td>\n",
       "      <td>None</td>\n",
       "      <td>None</td>\n",
       "      <td>1.511360e+09</td>\n",
       "      <td>Fuck him, fuck the FCC, fuck big corporate int...</td>\n",
       "      <td>2017-11-22 22:14:23</td>\n",
       "    </tr>\n",
       "    <tr>\n",
       "      <th>1</th>\n",
       "      <td>theydidthefuckyou</td>\n",
       "      <td>t5_32jwi</td>\n",
       "      <td>None</td>\n",
       "      <td>None</td>\n",
       "      <td>1.511346e+09</td>\n",
       "      <td>Fuck him!</td>\n",
       "      <td>2017-11-22 18:19:27</td>\n",
       "    </tr>\n",
       "    <tr>\n",
       "      <th>2</th>\n",
       "      <td>theydidthefuckyou</td>\n",
       "      <td>t5_32jwi</td>\n",
       "      <td>None</td>\n",
       "      <td>None</td>\n",
       "      <td>1.511352e+09</td>\n",
       "      <td>Fuck this guy and the high horse he rode in on</td>\n",
       "      <td>2017-11-22 20:04:24</td>\n",
       "    </tr>\n",
       "    <tr>\n",
       "      <th>3</th>\n",
       "      <td>theydidthefuckyou</td>\n",
       "      <td>t5_32jwi</td>\n",
       "      <td>None</td>\n",
       "      <td>None</td>\n",
       "      <td>1.511345e+09</td>\n",
       "      <td>Fuck You\\n\\n*I am a bot, and this action was p...</td>\n",
       "      <td>2017-11-22 18:05:05</td>\n",
       "    </tr>\n",
       "    <tr>\n",
       "      <th>4</th>\n",
       "      <td>theydidthefuckyou</td>\n",
       "      <td>t5_32jwi</td>\n",
       "      <td>None</td>\n",
       "      <td>None</td>\n",
       "      <td>1.511367e+09</td>\n",
       "      <td>[deleted]</td>\n",
       "      <td>2017-11-23 00:08:22</td>\n",
       "    </tr>\n",
       "  </tbody>\n",
       "</table>\n",
       "</div>"
      ],
      "text/plain": [
       "           subreddit subreddit_id num_reports report_reasons       created  \\\n",
       "0  theydidthefuckyou     t5_32jwi        None           None  1.511360e+09   \n",
       "1  theydidthefuckyou     t5_32jwi        None           None  1.511346e+09   \n",
       "2  theydidthefuckyou     t5_32jwi        None           None  1.511352e+09   \n",
       "3  theydidthefuckyou     t5_32jwi        None           None  1.511345e+09   \n",
       "4  theydidthefuckyou     t5_32jwi        None           None  1.511367e+09   \n",
       "\n",
       "                                                body        created_time  \n",
       "0  Fuck him, fuck the FCC, fuck big corporate int... 2017-11-22 22:14:23  \n",
       "1                                          Fuck him! 2017-11-22 18:19:27  \n",
       "2     Fuck this guy and the high horse he rode in on 2017-11-22 20:04:24  \n",
       "3  Fuck You\\n\\n*I am a bot, and this action was p... 2017-11-22 18:05:05  \n",
       "4                                          [deleted] 2017-11-23 00:08:22  "
      ]
     },
     "execution_count": 155,
     "metadata": {},
     "output_type": "execute_result"
    }
   ],
   "source": [
    "toxic_data.head()"
   ]
  },
  {
   "cell_type": "code",
   "execution_count": 156,
   "metadata": {},
   "outputs": [],
   "source": [
    "toxic_data.to_csv(\"toxic2nd.csv\")"
   ]
  }
 ],
 "metadata": {
  "kernelspec": {
   "display_name": "Python 3",
   "language": "python",
   "name": "python3"
  },
  "language_info": {
   "codemirror_mode": {
    "name": "ipython",
    "version": 3
   },
   "file_extension": ".py",
   "mimetype": "text/x-python",
   "name": "python",
   "nbconvert_exporter": "python",
   "pygments_lexer": "ipython3",
   "version": "3.7.2"
  }
 },
 "nbformat": 4,
 "nbformat_minor": 2
}
