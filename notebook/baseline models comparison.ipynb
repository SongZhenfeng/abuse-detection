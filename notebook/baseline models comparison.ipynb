{
 "cells": [
  {
   "cell_type": "markdown",
   "metadata": {},
   "source": [
    "# CLASSIFICATION OF TOXIC COMMENTS ON INTERNET PLATFORMS - baseline models comparison</font>"
   ]
  },
  {
   "cell_type": "markdown",
   "metadata": {},
   "source": [
    "### Reading and Analyzing the data"
   ]
  },
  {
   "cell_type": "code",
   "execution_count": 31,
   "metadata": {},
   "outputs": [],
   "source": [
    "import pandas as pd, numpy as np\n",
    "from sklearn.linear_model import LogisticRegression\n",
    "from sklearn.feature_extraction.text import CountVectorizer, TfidfVectorizer\n",
    "import matplotlib.pyplot as plt\n",
    "import seaborn as sns\n",
    "\n",
    "%matplotlib inline"
   ]
  },
  {
   "cell_type": "code",
   "execution_count": 32,
   "metadata": {},
   "outputs": [
    {
     "name": "stdout",
     "output_type": "stream",
     "text": [
      "                 id                                       comment_text  toxic  \\\n",
      "0  0000997932d777bf  Explanation\\nWhy the edits made under my usern...      0   \n",
      "1  000103f0d9cfb60f  D'aww! He matches this background colour I'm s...      0   \n",
      "2  000113f07ec002fd  Hey man, I'm really not trying to edit war. It...      0   \n",
      "3  0001b41b1c6bb37e  \"\\nMore\\nI can't make any real suggestions on ...      0   \n",
      "4  0001d958c54c6e35  You, sir, are my hero. Any chance you remember...      0   \n",
      "\n",
      "   severe_toxic  obscene  threat  insult  identity_hate  \n",
      "0             0        0       0       0              0  \n",
      "1             0        0       0       0              0  \n",
      "2             0        0       0       0              0  \n",
      "3             0        0       0       0              0  \n",
      "4             0        0       0       0              0  \n"
     ]
    }
   ],
   "source": [
    "import pandas as pd\n",
    "train_data = pd.read_csv(\"data/train.csv\")\n",
    "test_data = pd.read_csv(\"data/test.csv\")\n",
    "test_ground_truth = pd.read_csv(\"data/test_labels.csv\")\n",
    "print(train_data.head(5))"
   ]
  },
  {
   "cell_type": "markdown",
   "metadata": {},
   "source": [
    "### Extracting the toxic data for visualization"
   ]
  },
  {
   "cell_type": "code",
   "execution_count": 3,
   "metadata": {
    "collapsed": true
   },
   "outputs": [
    {
     "data": {
      "text/plain": [
       "Text(0.5, 0, 'category')"
      ]
     },
     "execution_count": 3,
     "metadata": {},
     "output_type": "execute_result"
    },
    {
     "data": {
      "image/png": "[encoded data removed]",
      "text/plain": [
       "<Figure size 576x360 with 1 Axes>"
      ]
     },
     "metadata": {
      "needs_background": "light"
     },
     "output_type": "display_data"
    }
   ],
   "source": [
    "\n",
    "%matplotlib inline\n",
    "import matplotlib\n",
    "import matplotlib.pyplot as plt\n",
    "\n",
    "train_toxic = train_data[['toxic','severe_toxic','obscene','threat','insult','identity_hate']]\n",
    "toxic_count = train_toxic.sum().to_frame()\n",
    "toxic_count['category'] = list(toxic_count.index)\n",
    "toxic_count['number_of_comments'] = toxic_count[0]\n",
    "toxic_count = toxic_count.drop(columns=[0]).reset_index()\n",
    "toxic_count = toxic_count.drop(columns=['index'])\n",
    "\n",
    "toxic_count.plot(x='category', y='number_of_comments', kind='bar', legend=False, grid=True, figsize=(8, 5))\n",
    "plt.title(\"Number of comments per category\")\n",
    "plt.ylabel('# of Occurrences', fontsize=12)\n",
    "plt.xlabel('category', fontsize=12)"
   ]
  },
  {
   "cell_type": "markdown",
   "metadata": {},
   "source": [
    "### Extracting the comment data for visualizaton"
   ]
  },
  {
   "cell_type": "code",
   "execution_count": 4,
   "metadata": {
    "collapsed": true
   },
   "outputs": [
    {
     "data": {
      "text/plain": [
       "Text(0.5, 0, '# of categories')"
      ]
     },
     "execution_count": 4,
     "metadata": {},
     "output_type": "execute_result"
    },
    {
     "data": {
      "image/png": "[encoded data removed]",
      "text/plain": [
       "<Figure size 576x360 with 1 Axes>"
      ]
     },
     "metadata": {
      "needs_background": "light"
     },
     "output_type": "display_data"
    }
   ],
   "source": [
    "import seaborn as sns\n",
    "rowsums = train_data.iloc[:,2:].sum(axis=1)\n",
    "x=rowsums.value_counts()\n",
    "\n",
    "plt.figure(figsize=(8,5))\n",
    "ax = sns.barplot(x.index, x.values)\n",
    "plt.title(\"Multiple categories per comment\")\n",
    "plt.ylabel('# of Occurrences', fontsize=12)\n",
    "plt.xlabel('# of categories', fontsize=12)"
   ]
  },
  {
   "cell_type": "markdown",
   "metadata": {},
   "source": [
    "### Baseline Model"
   ]
  },
  {
   "cell_type": "code",
   "execution_count": 33,
   "metadata": {},
   "outputs": [
    {
     "name": "stdout",
     "output_type": "stream",
     "text": [
      "(159571,)\n",
      "(153164,)\n"
     ]
    }
   ],
   "source": [
    "from sklearn.model_selection import train_test_split\n",
    "\n",
    "## For getting the predicted variable\n",
    "categories = ['toxic', 'severe_toxic', 'obscene', 'threat', 'insult', 'identity_hate']\n",
    "\n",
    "# train, test = train_test_split(train_data, random_state=1, test_size=0.33, shuffle=True)\n",
    "X_train = train_data.comment_text\n",
    "X_test = test_data.comment_text\n",
    "print(X_train.shape)\n",
    "print(X_test.shape)"
   ]
  },
  {
   "cell_type": "code",
   "execution_count": 19,
   "metadata": {},
   "outputs": [],
   "source": [
    "# Remove negative test cases\n",
    "def get_classification_report(y_test, preds):\n",
    "    new_y_test = y_test[y_test['toxic'] != -1]\n",
    "    new_preds = preds[y_test['toxic'] != -1]\n",
    "#     new_pred_prob = predict[y_test['toxic'] != -1]\n",
    "    print(classification_report(new_y_test, new_preds))"
   ]
  },
  {
   "cell_type": "code",
   "execution_count": 34,
   "metadata": {},
   "outputs": [],
   "source": [
    "test_ground_truth = pd.read_csv(\"test_labels.csv\")"
   ]
  },
  {
   "cell_type": "code",
   "execution_count": 35,
   "metadata": {},
   "outputs": [],
   "source": [
    "test_ground_truth[\"toxic\"] = test_ground_truth.apply(lambda row: 0 if row.toxic == -1 else row.toxic,axis = 1)\n",
    "test_ground_truth[\"severe_toxic\"] = test_ground_truth.apply(lambda row: 0 if row.severe_toxic == -1 else row.severe_toxic,axis = 1)\n",
    "test_ground_truth[\"obscene\"] = test_ground_truth.apply(lambda row: 0 if row.obscene == -1 else row.obscene,axis = 1)\n",
    "test_ground_truth[\"threat\"] = test_ground_truth.apply(lambda row: 0 if row.threat == -1 else row.threat,axis = 1)\n",
    "test_ground_truth[\"insult\"] = test_ground_truth.apply(lambda row: 0 if row.insult == -1 else row.insult,axis = 1)\n",
    "test_ground_truth[\"identity_hate\"] = test_ground_truth.apply(lambda row: 0 if row.identity_hate == -1 else row.identity_hate,axis = 1)"
   ]
  },
  {
   "cell_type": "markdown",
   "metadata": {},
   "source": [
    "## LSTM"
   ]
  },
  {
   "cell_type": "code",
   "execution_count": 90,
   "metadata": {},
   "outputs": [
    {
     "name": "stderr",
     "output_type": "stream",
     "text": [
      "Using TensorFlow backend.\n"
     ]
    }
   ],
   "source": [
    "from keras.preprocessing.text import Tokenizer\n",
    "from keras.preprocessing.sequence import pad_sequences\n",
    "from keras.layers import Dense, Input, LSTM, Embedding, Dropout, Activation\n",
    "from keras.layers import Bidirectional, GlobalMaxPool1D\n",
    "from keras.models import Model\n",
    "from keras.callbacks import EarlyStopping, ModelCheckpoint\n",
    "from keras import initializers, regularizers, constraints, optimizers, layers\n",
    "import sys, os, re, csv, codecs, numpy as np, pandas as pd\n",
    "import matplotlib.pyplot as plt\n",
    "%matplotlib inline"
   ]
  },
  {
   "cell_type": "code",
   "execution_count": 321,
   "metadata": {},
   "outputs": [],
   "source": [
    "train_data = pd.read_csv(\"train.csv\")\n",
    "# test = pd.read_csv(\"test.csv\")\n",
    "# train, test = train_test_split(train_data, random_state=1, test_size=0.33, shuffle=True)"
   ]
  },
  {
   "cell_type": "code",
   "execution_count": 88,
   "metadata": {},
   "outputs": [],
   "source": [
    "list_classes = [\"toxic\", \"severe_toxic\", \"obscene\", \"threat\", \"insult\", \"identity_hate\"]\n",
    "y = train[list_classes].values\n",
    "list_sentences_train = train[\"comment_text\"]\n",
    "list_sentences_test = test[\"comment_text\"]"
   ]
  },
  {
   "cell_type": "code",
   "execution_count": 91,
   "metadata": {},
   "outputs": [],
   "source": [
    "max_features = 20000\n",
    "tokenizer = Tokenizer(num_words=max_features)\n",
    "tokenizer.fit_on_texts(list(list_sentences_train))\n",
    "list_tokenized_train = tokenizer.texts_to_sequences(list_sentences_train)\n",
    "list_tokenized_test = tokenizer.texts_to_sequences(list_sentences_test)"
   ]
  },
  {
   "cell_type": "code",
   "execution_count": 92,
   "metadata": {},
   "outputs": [],
   "source": [
    "maxlen = 200\n",
    "X_t = pad_sequences(list_tokenized_train, maxlen=maxlen)\n",
    "X_te = pad_sequences(list_tokenized_test, maxlen=maxlen)"
   ]
  },
  {
   "cell_type": "code",
   "execution_count": 93,
   "metadata": {},
   "outputs": [],
   "source": [
    "totalNumWords = [len(one_comment) for one_comment in list_tokenized_train]"
   ]
  },
  {
   "cell_type": "code",
   "execution_count": 94,
   "metadata": {},
   "outputs": [
    {
     "data": {
      "image/png": "[encoded data removed]",
      "text/plain": [
       "<Figure size 432x288 with 1 Axes>"
      ]
     },
     "metadata": {
      "needs_background": "light"
     },
     "output_type": "display_data"
    }
   ],
   "source": [
    "plt.hist(totalNumWords,bins = np.arange(0,410,10))#[0,50,100,150,200,250,300,350,400])#,450,500,550,600,650,700,750,800,850,900])\n",
    "plt.show()"
   ]
  },
  {
   "cell_type": "code",
   "execution_count": 95,
   "metadata": {},
   "outputs": [],
   "source": [
    "def get_model():\n",
    "    inp = Input(shape=(maxlen, ))\n",
    "    embed_size = 128\n",
    "    x = Embedding(max_features, embed_size)(inp)\n",
    "    x = LSTM(60, return_sequences=True,name='lstm_layer')(x)\n",
    "    x = GlobalMaxPool1D()(x)\n",
    "    x = Dropout(0.1)(x)\n",
    "    x = Dense(50, activation=\"relu\")(x)\n",
    "    x = Dropout(0.1)(x)\n",
    "    x = Dense(6, activation=\"sigmoid\")(x)\n",
    "    model = Model(inputs=inp, outputs=x)\n",
    "    model.compile(loss='binary_crossentropy',\n",
    "                      optimizer='adam',\n",
    "                      metrics=['accuracy'])\n",
    "    return model"
   ]
  },
  {
   "cell_type": "code",
   "execution_count": 97,
   "metadata": {},
   "outputs": [
    {
     "name": "stdout",
     "output_type": "stream",
     "text": [
      "WARNING:tensorflow:From /Users/Zhenfeng/anaconda3/lib/python3.7/site-packages/tensorflow/python/ops/math_ops.py:3066: to_int32 (from tensorflow.python.ops.math_ops) is deprecated and will be removed in a future version.\n",
      "Instructions for updating:\n",
      "Use tf.cast instead.\n",
      "WARNING:tensorflow:From /Users/Zhenfeng/anaconda3/lib/python3.7/site-packages/tensorflow/python/ops/math_grad.py:102: div (from tensorflow.python.ops.math_ops) is deprecated and will be removed in a future version.\n",
      "Instructions for updating:\n",
      "Deprecated in favor of operator or tf.math.divide.\n",
      "Train on 143613 samples, validate on 15958 samples\n",
      "Epoch 1/2\n",
      "143613/143613 [==============================] - 695s 5ms/step - loss: 0.0683 - acc: 0.9780 - val_loss: 0.0493 - val_acc: 0.9820\n",
      "\n",
      "Epoch 00001: val_loss improved from inf to 0.04932, saving model to weights_base_new.best.hdf5\n",
      "Epoch 2/2\n",
      "143613/143613 [==============================] - 703s 5ms/step - loss: 0.0461 - acc: 0.9829 - val_loss: 0.0484 - val_acc: 0.9823\n",
      "\n",
      "Epoch 00002: val_loss improved from 0.04932 to 0.04840, saving model to weights_base_new.best.hdf5\n"
     ]
    }
   ],
   "source": [
    "model = get_model()\n",
    "batch_size = 32\n",
    "epochs = 2\n",
    "\n",
    "\n",
    "file_path=\"weights_base_new.best.hdf5\"\n",
    "\n",
    "checkpoint = ModelCheckpoint(file_path, monitor='val_loss', verbose=1, save_best_only=True, mode='min')\n",
    "\n",
    "early = EarlyStopping(monitor=\"val_loss\", mode=\"min\", patience=20)\n",
    "\n",
    "callbacks_list = [checkpoint, early] #early\n",
    "model.fit(X_t, y, batch_size=batch_size, epochs=epochs, validation_split=0.1, callbacks=callbacks_list)\n",
    "\n",
    "model.load_weights(file_path)\n",
    "\n",
    "y_test = model.predict(X_te)"
   ]
  },
  {
   "cell_type": "code",
   "execution_count": 98,
   "metadata": {},
   "outputs": [
    {
     "name": "stdout",
     "output_type": "stream",
     "text": [
      "153164/153164 [==============================] - 66s 433us/step\n"
     ]
    }
   ],
   "source": [
    "y_test = model.predict([X_te], batch_size=1024, verbose=1)"
   ]
  },
  {
   "cell_type": "code",
   "execution_count": 99,
   "metadata": {},
   "outputs": [],
   "source": [
    "test_dm = pd.DataFrame()"
   ]
  },
  {
   "cell_type": "code",
   "execution_count": 105,
   "metadata": {},
   "outputs": [
    {
     "name": "stderr",
     "output_type": "stream",
     "text": [
      "/Users/Zhenfeng/anaconda3/lib/python3.7/site-packages/pandas/core/ops.py:1649: FutureWarning: elementwise comparison failed; returning scalar instead, but in the future will perform elementwise comparison\n",
      "  result = method(y)\n"
     ]
    }
   ],
   "source": [
    "test_dm = test_ground_truth[test_ground_truth.toxic == \"sda\"]"
   ]
  },
  {
   "cell_type": "code",
   "execution_count": 106,
   "metadata": {},
   "outputs": [],
   "source": [
    "test_dm = test_dm[label_cols]"
   ]
  },
  {
   "cell_type": "code",
   "execution_count": 108,
   "metadata": {},
   "outputs": [],
   "source": [
    "test_dm[list_classes] = y_test"
   ]
  },
  {
   "cell_type": "code",
   "execution_count": 109,
   "metadata": {},
   "outputs": [],
   "source": [
    "test_dm['toxic'] = test_dm.apply(lambda x: 1 if x[\"toxic\"]>= 0.5 else 0, axis=1)"
   ]
  },
  {
   "cell_type": "code",
   "execution_count": 110,
   "metadata": {},
   "outputs": [],
   "source": [
    "test_dm['severe_toxic'] = test_dm.apply(lambda x: 1 if x[\"severe_toxic\"]>= 0.5 else 0, axis=1)\n",
    "test_dm['obscene'] = test_dm.apply(lambda x: 1 if x[\"obscene\"]>= 0.5 else 0, axis=1)\n",
    "test_dm['threat'] = test_dm.apply(lambda x: 1 if x[\"threat\"]>= 0.5 else 0, axis=1)\n",
    "test_dm['insult'] = test_dm.apply(lambda x: 1 if x[\"insult\"]>= 0.5 else 0, axis=1)\n",
    "test_dm['identity_hate'] = test_dm.apply(lambda x: 1 if x[\"identity_hate\"]>= 0.5 else 0, axis=1)"
   ]
  },
  {
   "cell_type": "code",
   "execution_count": 111,
   "metadata": {},
   "outputs": [],
   "source": [
    "y_pred = test_dm[list_classes]"
   ]
  },
  {
   "cell_type": "code",
   "execution_count": 112,
   "metadata": {},
   "outputs": [],
   "source": [
    "y_true = test_ground_truth[list_classes]"
   ]
  },
  {
   "cell_type": "code",
   "execution_count": 114,
   "metadata": {},
   "outputs": [
    {
     "name": "stdout",
     "output_type": "stream",
     "text": [
      "              precision    recall  f1-score   support\n",
      "\n",
      "           0       0.61      0.79      0.69      6090\n",
      "           1       0.49      0.20      0.28       367\n",
      "           2       0.65      0.75      0.69      3691\n",
      "           3       0.00      0.00      0.00       211\n",
      "           4       0.65      0.61      0.63      3427\n",
      "           5       0.00      0.00      0.00       712\n",
      "\n",
      "   micro avg       0.63      0.67      0.65     14498\n",
      "   macro avg       0.40      0.39      0.38     14498\n",
      "weighted avg       0.59      0.67      0.62     14498\n",
      " samples avg       0.07      0.06      0.06     14498\n",
      "\n",
      "None\n"
     ]
    },
    {
     "name": "stderr",
     "output_type": "stream",
     "text": [
      "/Users/Zhenfeng/anaconda3/lib/python3.7/site-packages/sklearn/metrics/classification.py:1143: UndefinedMetricWarning: Precision and F-score are ill-defined and being set to 0.0 in labels with no predicted samples.\n",
      "  'precision', 'predicted', average, warn_for)\n",
      "/Users/Zhenfeng/anaconda3/lib/python3.7/site-packages/sklearn/metrics/classification.py:1143: UndefinedMetricWarning: Precision and F-score are ill-defined and being set to 0.0 in labels with no predicted samples.\n",
      "  'precision', 'predicted', average, warn_for)\n",
      "/Users/Zhenfeng/anaconda3/lib/python3.7/site-packages/sklearn/metrics/classification.py:1143: UndefinedMetricWarning: Precision and F-score are ill-defined and being set to 0.0 in labels with no predicted samples.\n",
      "  'precision', 'predicted', average, warn_for)\n",
      "/Users/Zhenfeng/anaconda3/lib/python3.7/site-packages/sklearn/metrics/classification.py:1143: UndefinedMetricWarning: Precision and F-score are ill-defined and being set to 0.0 in samples with no predicted labels.\n",
      "  'precision', 'predicted', average, warn_for)\n",
      "/Users/Zhenfeng/anaconda3/lib/python3.7/site-packages/sklearn/metrics/classification.py:1145: UndefinedMetricWarning: Recall and F-score are ill-defined and being set to 0.0 in samples with no true labels.\n",
      "  'recall', 'true', average, warn_for)\n"
     ]
    }
   ],
   "source": [
    "print(get_classification_report(y_true, y_pred))"
   ]
  },
  {
   "cell_type": "code",
   "execution_count": 122,
   "metadata": {},
   "outputs": [],
   "source": [
    "new_y_test = y_true[y_true['toxic'] != -1]\n",
    "new_preds = y_pred[y_true['toxic'] != -1]"
   ]
  },
  {
   "cell_type": "code",
   "execution_count": 124,
   "metadata": {},
   "outputs": [
    {
     "name": "stdout",
     "output_type": "stream",
     "text": [
      "Test accuracy is 0.9326956141173528\n",
      "Test accuracy is 0.9942323923848823\n",
      "Test accuracy is 0.9621432367376286\n",
      "Test accuracy is 0.9967019913095126\n",
      "Test accuracy is 0.9619713026352809\n",
      "Test accuracy is 0.9888711744662227\n",
      "Mean Accuracy is 0.9727692852751465\n"
     ]
    }
   ],
   "source": [
    "accuracies = []\n",
    "for category in (label_cols):\n",
    "    accuracies.append(accuracy_score(\n",
    "            new_y_test[category], new_preds[category]))\n",
    "    print('Test accuracy is {}'.format(accuracy_score(\n",
    "            new_y_test[category], new_preds[category])))\n",
    "print(\"Mean Accuracy is {}\".format(np.mean(accuracies)))"
   ]
  },
  {
   "cell_type": "code",
   "execution_count": 30,
   "metadata": {
    "collapsed": true
   },
   "outputs": [
    {
     "name": "stdout",
     "output_type": "stream",
     "text": [
      "(106912,)\n",
      "(52659,)\n"
     ]
    }
   ],
   "source": [
    "train_data = pd.read_csv(\"train.csv\")\n",
    "test_data = pd.read_csv(\"test.csv\")\n",
    "categories = ['toxic', 'severe_toxic', 'obscene', 'threat', 'insult', 'identity_hate']\n",
    "\n",
    "train, test = train_test_split(train_data, random_state=1, test_size=0.33, shuffle=True)\n",
    "X_train = train.comment_text\n",
    "X_test = test.comment_text"
   ]
  },
  {
   "cell_type": "code",
   "execution_count": 39,
   "metadata": {},
   "outputs": [],
   "source": [
    "train = train_data\n",
    "test = test_data"
   ]
  },
  {
   "cell_type": "code",
   "execution_count": 44,
   "metadata": {},
   "outputs": [],
   "source": [
    "label_cols = ['toxic', 'severe_toxic', 'obscene', 'threat', \n",
    "              'insult', 'identity_hate']"
   ]
  },
  {
   "cell_type": "code",
   "execution_count": 75,
   "metadata": {},
   "outputs": [],
   "source": [
    "from sklearn.metrics import classification_report\n",
    "\n",
    "def get_classification_report(y_test, preds):\n",
    "    new_y_test = y_test[y_test['toxic'] != -1]\n",
    "    new_preds = preds[y_test['toxic'] != -1]\n",
    "#     new_pred_prob = predict[y_test['toxic'] != -1]\n",
    "    print(classification_report(new_y_test, new_preds))\n",
    "\n",
    "    \n",
    "def get_accuracy(y_test, preds):\n",
    "    new_y_test = y_test[y_test['toxic'] != -1]\n",
    "    new_preds = preds[y_test['toxic'] != -1]\n",
    "    accuracies = []\n",
    "    for i, category in enumerate(label_cols):\n",
    "        accuracies.append(accuracy_score(\n",
    "                new_y_test[category], new_preds[:,i]))\n",
    "        print('Test accuracy is {}'.format(accuracy_score(\n",
    "                new_y_test[category], new_preds[:,i])))\n",
    "    #     new_pred_prob = predict[y_test['toxic'] != -1]\n",
    "    print(\"Mean Accuracy is {}\".format(np.mean(accuracies)))"
   ]
  },
  {
   "cell_type": "markdown",
   "metadata": {},
   "source": [
    "## Logistic Regression"
   ]
  },
  {
   "cell_type": "code",
   "execution_count": 76,
   "metadata": {},
   "outputs": [
    {
     "name": "stdout",
     "output_type": "stream",
     "text": [
      "... Processing toxic\n",
      "... Processing severe_toxic\n",
      "... Processing obscene\n",
      "... Processing threat\n",
      "... Processing insult\n",
      "... Processing identity_hate\n",
      "CPU times: user 4min 54s, sys: 4.76 s, total: 4min 59s\n",
      "Wall time: 4min 58s\n"
     ]
    }
   ],
   "source": [
    "%%time\n",
    "from sklearn.linear_model import LogisticRegression\n",
    "from sklearn.feature_extraction.text import TfidfVectorizer\n",
    "from sklearn.pipeline import Pipeline\n",
    "from sklearn.metrics import accuracy_score\n",
    "from sklearn.multiclass import OneVsRestClassifier\n",
    "\n",
    "preds_prob = np.zeros((len(test), len(label_cols)))\n",
    "preds = np.zeros((len(test), len(label_cols)))\n",
    "\n",
    "pipelines = dict()\n",
    "\n",
    "for i, category in enumerate(label_cols):\n",
    "    print('... Processing {}'.format(category))\n",
    "    # train the model using X_dtm & y\n",
    "    LogReg_pipeline = Pipeline([\n",
    "                ('tfidf', TfidfVectorizer( \n",
    "                    min_df=10, max_df=0.9, \n",
    "                    strip_accents='unicode',\n",
    "                    stop_words = \"english\",\n",
    "                    ngram_range=(1, 2),\n",
    "                    use_idf=1, smooth_idf=1, sublinear_tf=1 \n",
    "                )),\n",
    "                ('clf', OneVsRestClassifier(LogisticRegression(\n",
    "                    solver='sag'), n_jobs=1)),\n",
    "            ])\n",
    "    LogReg_pipeline.fit(train.comment_text, train[category])\n",
    "    pipelines[category] = LogReg_pipeline\n",
    "    # compute the testing accuracy\n",
    "#     prediction = LogReg_pipeline.predict(X_test)\n",
    "    preds[:,i] = LogReg_pipeline.predict(test.comment_text)\n",
    "    preds_prob[:,i] = LogReg_pipeline.predict_proba(test.comment_text)[:,1]\n",
    "#     print('Test accuracy is {}'.format(accuracy_score(\n",
    "#         test_ground_truth[category], preds[:,i])))"
   ]
  },
  {
   "cell_type": "code",
   "execution_count": 77,
   "metadata": {},
   "outputs": [],
   "source": [
    "y_test = test_ground_truth[label_cols]"
   ]
  },
  {
   "cell_type": "code",
   "execution_count": 78,
   "metadata": {},
   "outputs": [
    {
     "name": "stdout",
     "output_type": "stream",
     "text": [
      "              precision    recall  f1-score   support\n",
      "\n",
      "           0       0.66      0.69      0.67      6090\n",
      "           1       0.41      0.31      0.35       367\n",
      "           2       0.77      0.60      0.68      3691\n",
      "           3       0.55      0.21      0.30       211\n",
      "           4       0.74      0.50      0.59      3427\n",
      "           5       0.69      0.25      0.37       712\n",
      "\n",
      "   micro avg       0.70      0.58      0.63     14498\n",
      "   macro avg       0.64      0.42      0.49     14498\n",
      "weighted avg       0.70      0.58      0.63     14498\n",
      " samples avg       0.06      0.05      0.05     14498\n",
      "\n",
      "None\n"
     ]
    },
    {
     "name": "stderr",
     "output_type": "stream",
     "text": [
      "/Users/Zhenfeng/anaconda3/lib/python3.7/site-packages/sklearn/metrics/classification.py:1143: UndefinedMetricWarning: Precision and F-score are ill-defined and being set to 0.0 in samples with no predicted labels.\n",
      "  'precision', 'predicted', average, warn_for)\n",
      "/Users/Zhenfeng/anaconda3/lib/python3.7/site-packages/sklearn/metrics/classification.py:1145: UndefinedMetricWarning: Recall and F-score are ill-defined and being set to 0.0 in samples with no true labels.\n",
      "  'recall', 'true', average, warn_for)\n"
     ]
    }
   ],
   "source": [
    "print(get_classification_report(y_test, preds))"
   ]
  },
  {
   "cell_type": "code",
   "execution_count": 79,
   "metadata": {},
   "outputs": [
    {
     "name": "stdout",
     "output_type": "stream",
     "text": [
      "Test accuracy is 0.9371033792866298\n",
      "Test accuracy is 0.9934977648566695\n",
      "Test accuracy is 0.9667698271280752\n",
      "Test accuracy is 0.9968270342930382\n",
      "Test accuracy is 0.9635499703022914\n",
      "Test accuracy is 0.9903873206414705\n",
      "Mean Accuracy is 0.9746892160846959\n",
      "None\n"
     ]
    }
   ],
   "source": [
    "print(get_accuracy(y_test, preds))"
   ]
  },
  {
   "cell_type": "markdown",
   "metadata": {},
   "source": [
    "## NB"
   ]
  },
  {
   "cell_type": "code",
   "execution_count": 80,
   "metadata": {},
   "outputs": [
    {
     "name": "stdout",
     "output_type": "stream",
     "text": [
      "... Processing toxic\n",
      "... Processing severe_toxic\n",
      "... Processing obscene\n",
      "... Processing threat\n",
      "... Processing insult\n",
      "... Processing identity_hate\n",
      "CPU times: user 4min 41s, sys: 6.31 s, total: 4min 47s\n",
      "Wall time: 4min 45s\n"
     ]
    }
   ],
   "source": [
    "%%time\n",
    "from sklearn.linear_model import LogisticRegression\n",
    "from sklearn.feature_extraction.text import TfidfVectorizer\n",
    "from sklearn.pipeline import Pipeline\n",
    "from sklearn.metrics import accuracy_score\n",
    "from sklearn.multiclass import OneVsRestClassifier\n",
    "from sklearn.naive_bayes import MultinomialNB\n",
    "\n",
    "preds_prob = np.zeros((len(test), len(label_cols)))\n",
    "preds = np.zeros((len(test), len(label_cols)))\n",
    "\n",
    "pipelines = dict()\n",
    "\n",
    "for i, category in enumerate(label_cols):\n",
    "    print('... Processing {}'.format(category))\n",
    "    # train the model using X_dtm & y\n",
    "    LogReg_pipeline = Pipeline([\n",
    "                ('tfidf', TfidfVectorizer( \n",
    "                    min_df=10, max_df=0.9, \n",
    "                    strip_accents='unicode',\n",
    "                    stop_words = \"english\",\n",
    "                    ngram_range=(1, 2),\n",
    "                    use_idf=1, smooth_idf=1, sublinear_tf=1 \n",
    "                )),\n",
    "                ('nb',  OneVsRestClassifier(MultinomialNB(\n",
    "                    fit_prior=True, class_prior=None))),\n",
    "            ])\n",
    "    LogReg_pipeline.fit(train.comment_text, train[category])\n",
    "    pipelines[category] = LogReg_pipeline\n",
    "    # compute the testing accuracy\n",
    "#     prediction = LogReg_pipeline.predict(X_test)\n",
    "    preds[:,i] = LogReg_pipeline.predict(test.comment_text)\n",
    "    preds_prob[:,i] = LogReg_pipeline.predict_proba(test.comment_text)[:,1]\n",
    "#     print('Test accuracy is {}'.format(accuracy_score(\n",
    "#         test_ground_truth[category], preds[:,i])))"
   ]
  },
  {
   "cell_type": "code",
   "execution_count": 81,
   "metadata": {},
   "outputs": [
    {
     "name": "stdout",
     "output_type": "stream",
     "text": [
      "              precision    recall  f1-score   support\n",
      "\n",
      "           0       0.78      0.47      0.59      6090\n",
      "           1       0.71      0.04      0.08       367\n",
      "           2       0.90      0.37      0.52      3691\n",
      "           3       0.00      0.00      0.00       211\n",
      "           4       0.81      0.27      0.41      3427\n",
      "           5       1.00      0.01      0.02       712\n",
      "\n",
      "   micro avg       0.81      0.36      0.50     14498\n",
      "   macro avg       0.70      0.19      0.27     14498\n",
      "weighted avg       0.82      0.36      0.48     14498\n",
      " samples avg       0.04      0.03      0.03     14498\n",
      "\n",
      "None\n",
      "Test accuracy is 0.9371346400325111\n",
      "Test accuracy is 0.99440432648723\n",
      "Test accuracy is 0.9611741536153052\n",
      "Test accuracy is 0.9967019913095126\n",
      "Test accuracy is 0.957766732314233\n",
      "Test accuracy is 0.9889805870768077\n",
      "Mean Accuracy is 0.9726937384725999\n",
      "None\n"
     ]
    },
    {
     "name": "stderr",
     "output_type": "stream",
     "text": [
      "/Users/Zhenfeng/anaconda3/lib/python3.7/site-packages/sklearn/metrics/classification.py:1143: UndefinedMetricWarning: Precision and F-score are ill-defined and being set to 0.0 in labels with no predicted samples.\n",
      "  'precision', 'predicted', average, warn_for)\n",
      "/Users/Zhenfeng/anaconda3/lib/python3.7/site-packages/sklearn/metrics/classification.py:1143: UndefinedMetricWarning: Precision and F-score are ill-defined and being set to 0.0 in labels with no predicted samples.\n",
      "  'precision', 'predicted', average, warn_for)\n",
      "/Users/Zhenfeng/anaconda3/lib/python3.7/site-packages/sklearn/metrics/classification.py:1143: UndefinedMetricWarning: Precision and F-score are ill-defined and being set to 0.0 in labels with no predicted samples.\n",
      "  'precision', 'predicted', average, warn_for)\n",
      "/Users/Zhenfeng/anaconda3/lib/python3.7/site-packages/sklearn/metrics/classification.py:1143: UndefinedMetricWarning: Precision and F-score are ill-defined and being set to 0.0 in samples with no predicted labels.\n",
      "  'precision', 'predicted', average, warn_for)\n",
      "/Users/Zhenfeng/anaconda3/lib/python3.7/site-packages/sklearn/metrics/classification.py:1145: UndefinedMetricWarning: Recall and F-score are ill-defined and being set to 0.0 in samples with no true labels.\n",
      "  'recall', 'true', average, warn_for)\n"
     ]
    }
   ],
   "source": [
    "print(get_classification_report(y_test, preds))\n",
    "print(get_accuracy(y_test, preds))"
   ]
  },
  {
   "cell_type": "markdown",
   "metadata": {},
   "source": [
    "## Random Forest"
   ]
  },
  {
   "cell_type": "code",
   "execution_count": 82,
   "metadata": {},
   "outputs": [
    {
     "name": "stdout",
     "output_type": "stream",
     "text": [
      "... Processing toxic\n"
     ]
    },
    {
     "name": "stderr",
     "output_type": "stream",
     "text": [
      "/Users/Zhenfeng/anaconda3/lib/python3.7/site-packages/sklearn/ensemble/forest.py:246: FutureWarning: The default value of n_estimators will change from 10 in version 0.20 to 100 in 0.22.\n",
      "  \"10 in version 0.20 to 100 in 0.22.\", FutureWarning)\n"
     ]
    },
    {
     "name": "stdout",
     "output_type": "stream",
     "text": [
      "... Processing severe_toxic\n"
     ]
    },
    {
     "name": "stderr",
     "output_type": "stream",
     "text": [
      "/Users/Zhenfeng/anaconda3/lib/python3.7/site-packages/sklearn/ensemble/forest.py:246: FutureWarning: The default value of n_estimators will change from 10 in version 0.20 to 100 in 0.22.\n",
      "  \"10 in version 0.20 to 100 in 0.22.\", FutureWarning)\n"
     ]
    },
    {
     "name": "stdout",
     "output_type": "stream",
     "text": [
      "... Processing obscene\n"
     ]
    },
    {
     "name": "stderr",
     "output_type": "stream",
     "text": [
      "/Users/Zhenfeng/anaconda3/lib/python3.7/site-packages/sklearn/ensemble/forest.py:246: FutureWarning: The default value of n_estimators will change from 10 in version 0.20 to 100 in 0.22.\n",
      "  \"10 in version 0.20 to 100 in 0.22.\", FutureWarning)\n"
     ]
    },
    {
     "name": "stdout",
     "output_type": "stream",
     "text": [
      "... Processing threat\n"
     ]
    },
    {
     "name": "stderr",
     "output_type": "stream",
     "text": [
      "/Users/Zhenfeng/anaconda3/lib/python3.7/site-packages/sklearn/ensemble/forest.py:246: FutureWarning: The default value of n_estimators will change from 10 in version 0.20 to 100 in 0.22.\n",
      "  \"10 in version 0.20 to 100 in 0.22.\", FutureWarning)\n"
     ]
    },
    {
     "name": "stdout",
     "output_type": "stream",
     "text": [
      "... Processing insult\n"
     ]
    },
    {
     "name": "stderr",
     "output_type": "stream",
     "text": [
      "/Users/Zhenfeng/anaconda3/lib/python3.7/site-packages/sklearn/ensemble/forest.py:246: FutureWarning: The default value of n_estimators will change from 10 in version 0.20 to 100 in 0.22.\n",
      "  \"10 in version 0.20 to 100 in 0.22.\", FutureWarning)\n"
     ]
    },
    {
     "name": "stdout",
     "output_type": "stream",
     "text": [
      "... Processing identity_hate\n"
     ]
    },
    {
     "name": "stderr",
     "output_type": "stream",
     "text": [
      "/Users/Zhenfeng/anaconda3/lib/python3.7/site-packages/sklearn/ensemble/forest.py:246: FutureWarning: The default value of n_estimators will change from 10 in version 0.20 to 100 in 0.22.\n",
      "  \"10 in version 0.20 to 100 in 0.22.\", FutureWarning)\n"
     ]
    },
    {
     "name": "stdout",
     "output_type": "stream",
     "text": [
      "CPU times: user 8min 21s, sys: 6.15 s, total: 8min 27s\n",
      "Wall time: 8min 24s\n"
     ]
    }
   ],
   "source": [
    "%%time\n",
    "from sklearn.ensemble import RandomForestClassifier\n",
    "\n",
    "preds_prob = np.zeros((len(test), len(label_cols)))\n",
    "preds = np.zeros((len(test), len(label_cols)))\n",
    "\n",
    "pipelines = dict()\n",
    "\n",
    "for i, category in enumerate(label_cols):\n",
    "    print('... Processing {}'.format(category))\n",
    "    # train the model using X_dtm & y\n",
    "    LogReg_pipeline = Pipeline([\n",
    "                ('tfidf', TfidfVectorizer( \n",
    "                    min_df=10, max_df=0.9, \n",
    "                    strip_accents='unicode',\n",
    "                    stop_words = \"english\",\n",
    "                    ngram_range=(1, 2),\n",
    "                    use_idf=1, smooth_idf=1, sublinear_tf=1 \n",
    "                )),\n",
    "                ('rf', OneVsRestClassifier(RandomForestClassifier())),\n",
    "            ])\n",
    "    LogReg_pipeline.fit(train.comment_text, train[category])\n",
    "    pipelines[category] = LogReg_pipeline\n",
    "    # compute the testing accuracy\n",
    "#     prediction = LogReg_pipeline.predict(X_test)\n",
    "    preds[:,i] = LogReg_pipeline.predict(test.comment_text)\n",
    "    preds_prob[:,i] = LogReg_pipeline.predict_proba(test.comment_text)[:,1]\n",
    "#     print('Test accuracy is {}'.format(accuracy_score(\n",
    "#         test_ground_truth[category], preds[:,i])))"
   ]
  },
  {
   "cell_type": "code",
   "execution_count": 83,
   "metadata": {},
   "outputs": [
    {
     "name": "stdout",
     "output_type": "stream",
     "text": [
      "              precision    recall  f1-score   support\n",
      "\n",
      "           0       0.58      0.74      0.65      6090\n",
      "           1       0.17      0.07      0.10       367\n",
      "           2       0.60      0.68      0.64      3691\n",
      "           3       0.46      0.06      0.11       211\n",
      "           4       0.58      0.52      0.55      3427\n",
      "           5       0.55      0.11      0.18       712\n",
      "\n",
      "   micro avg       0.58      0.62      0.60     14498\n",
      "   macro avg       0.49      0.36      0.37     14498\n",
      "weighted avg       0.57      0.62      0.58     14498\n",
      " samples avg       0.07      0.06      0.06     14498\n",
      "\n",
      "None\n",
      "Test accuracy is 0.9241145393729094\n",
      "Test accuracy is 0.992794398074338\n",
      "Test accuracy is 0.9559379786801713\n",
      "Test accuracy is 0.9966707305636312\n",
      "Test accuracy is 0.9539685516896433\n",
      "Test accuracy is 0.9891056300603333\n",
      "Mean Accuracy is 0.9687653047401711\n",
      "None\n"
     ]
    },
    {
     "name": "stderr",
     "output_type": "stream",
     "text": [
      "/Users/Zhenfeng/anaconda3/lib/python3.7/site-packages/sklearn/metrics/classification.py:1143: UndefinedMetricWarning: Precision and F-score are ill-defined and being set to 0.0 in samples with no predicted labels.\n",
      "  'precision', 'predicted', average, warn_for)\n",
      "/Users/Zhenfeng/anaconda3/lib/python3.7/site-packages/sklearn/metrics/classification.py:1145: UndefinedMetricWarning: Recall and F-score are ill-defined and being set to 0.0 in samples with no true labels.\n",
      "  'recall', 'true', average, warn_for)\n"
     ]
    }
   ],
   "source": [
    "print(get_classification_report(y_test, preds))\n",
    "print(get_accuracy(y_test, preds))"
   ]
  },
  {
   "cell_type": "markdown",
   "metadata": {},
   "source": [
    "## XGBoost"
   ]
  },
  {
   "cell_type": "code",
   "execution_count": 84,
   "metadata": {},
   "outputs": [
    {
     "name": "stdout",
     "output_type": "stream",
     "text": [
      "... Processing toxic\n",
      "... Processing severe_toxic\n",
      "... Processing obscene\n",
      "... Processing threat\n",
      "... Processing insult\n",
      "... Processing identity_hate\n",
      "CPU times: user 20min 28s, sys: 18.2 s, total: 20min 46s\n",
      "Wall time: 20min\n"
     ]
    }
   ],
   "source": [
    "%%time\n",
    "from sklearn.ensemble import GradientBoostingClassifier\n",
    "\n",
    "preds_prob = np.zeros((len(test), len(label_cols)))\n",
    "preds = np.zeros((len(test), len(label_cols)))\n",
    "\n",
    "pipelines = dict()\n",
    "\n",
    "for i, category in enumerate(label_cols):\n",
    "    print('... Processing {}'.format(category))\n",
    "    # train the model using X_dtm & y\n",
    "    LogReg_pipeline = Pipeline([\n",
    "                ('tfidf', TfidfVectorizer( \n",
    "                    min_df=10, max_df=0.9, \n",
    "                    strip_accents='unicode',\n",
    "                    stop_words = \"english\",\n",
    "                    ngram_range=(1, 2),\n",
    "                    use_idf=1, smooth_idf=1, sublinear_tf=1 \n",
    "                )),\n",
    "                ('XGboost', OneVsRestClassifier(GradientBoostingClassifier())),\n",
    "            ])\n",
    "    LogReg_pipeline.fit(train.comment_text, train[category])\n",
    "    pipelines[category] = LogReg_pipeline\n",
    "    # compute the testing accuracy\n",
    "#     prediction = LogReg_pipeline.predict(X_test)\n",
    "    preds[:,i] = LogReg_pipeline.predict(test.comment_text)\n",
    "    preds_prob[:,i] = LogReg_pipeline.predict_proba(test.comment_text)[:,1]\n",
    "#     print('Test accuracy is {}'.format(accuracy_score(\n",
    "#         test_ground_truth[category], preds[:,i])))"
   ]
  },
  {
   "cell_type": "code",
   "execution_count": 85,
   "metadata": {},
   "outputs": [
    {
     "name": "stdout",
     "output_type": "stream",
     "text": [
      "              precision    recall  f1-score   support\n",
      "\n",
      "           0       0.71      0.47      0.56      6090\n",
      "           1       0.32      0.23      0.27       367\n",
      "           2       0.70      0.55      0.62      3691\n",
      "           3       0.38      0.43      0.40       211\n",
      "           4       0.73      0.40      0.51      3427\n",
      "           5       0.50      0.28      0.36       712\n",
      "\n",
      "   micro avg       0.68      0.46      0.55     14498\n",
      "   macro avg       0.56      0.39      0.45     14498\n",
      "weighted avg       0.69      0.46      0.54     14498\n",
      " samples avg       0.05      0.04      0.04     14498\n",
      "\n",
      "None\n",
      "Test accuracy is 0.9307574478727062\n",
      "Test accuracy is 0.9927631373284567\n",
      "Test accuracy is 0.9605801994435588\n",
      "Test accuracy is 0.9957954296789522\n",
      "Test accuracy is 0.9596892681859389\n",
      "Test accuracy is 0.9888399137203414\n",
      "Mean Accuracy is 0.9714042327049924\n",
      "None\n"
     ]
    },
    {
     "name": "stderr",
     "output_type": "stream",
     "text": [
      "/Users/Zhenfeng/anaconda3/lib/python3.7/site-packages/sklearn/metrics/classification.py:1143: UndefinedMetricWarning: Precision and F-score are ill-defined and being set to 0.0 in samples with no predicted labels.\n",
      "  'precision', 'predicted', average, warn_for)\n",
      "/Users/Zhenfeng/anaconda3/lib/python3.7/site-packages/sklearn/metrics/classification.py:1145: UndefinedMetricWarning: Recall and F-score are ill-defined and being set to 0.0 in samples with no true labels.\n",
      "  'recall', 'true', average, warn_for)\n"
     ]
    }
   ],
   "source": [
    "print(get_classification_report(y_test, preds))\n",
    "print(get_accuracy(y_test, preds))"
   ]
  },
  {
   "cell_type": "markdown",
   "metadata": {},
   "source": [
    "## SVM"
   ]
  },
  {
   "cell_type": "code",
   "execution_count": 86,
   "metadata": {},
   "outputs": [
    {
     "name": "stdout",
     "output_type": "stream",
     "text": [
      "... Processing toxic\n",
      "... Processing severe_toxic\n",
      "... Processing obscene\n",
      "... Processing threat\n",
      "... Processing insult\n",
      "... Processing identity_hate\n",
      "CPU times: user 4min 8s, sys: 5.46 s, total: 4min 14s\n",
      "Wall time: 5min 2s\n"
     ]
    }
   ],
   "source": [
    "%%time\n",
    "from sklearn.svm import LinearSVC\n",
    "\n",
    "preds_prob = np.zeros((len(test), len(label_cols)))\n",
    "preds = np.zeros((len(test), len(label_cols)))\n",
    "\n",
    "pipelines = dict()\n",
    "\n",
    "for i, category in enumerate(label_cols):\n",
    "    print('... Processing {}'.format(category))\n",
    "    # train the model using X_dtm & y\n",
    "    LogReg_pipeline = Pipeline([\n",
    "                ('tfidf', TfidfVectorizer( \n",
    "                    min_df=10, max_df=0.9, \n",
    "                    strip_accents='unicode',\n",
    "                    stop_words = \"english\",\n",
    "                    ngram_range=(1, 2),\n",
    "                    use_idf=1, smooth_idf=1, sublinear_tf=1 \n",
    "                )),\n",
    "                ('clf', OneVsRestClassifier(LinearSVC(), n_jobs=1)),\n",
    "            ])\n",
    "    LogReg_pipeline.fit(train.comment_text, train[category])\n",
    "    pipelines[category] = LogReg_pipeline\n",
    "    # compute the testing accuracy\n",
    "#     prediction = LogReg_pipeline.predict(X_test)\n",
    "    preds[:,i] = LogReg_pipeline.predict(test.comment_text)\n",
    "#     preds_prob[:,i] = LogReg_pipeline.predict_proba(test.comment_text)[:,1]\n",
    "#     print('Test accuracy is {}'.format(accuracy_score(\n",
    "#         test_ground_truth[category], preds[:,i])))"
   ]
  },
  {
   "cell_type": "code",
   "execution_count": 87,
   "metadata": {},
   "outputs": [
    {
     "name": "stdout",
     "output_type": "stream",
     "text": [
      "              precision    recall  f1-score   support\n",
      "\n",
      "           0       0.58      0.78      0.66      6090\n",
      "           1       0.38      0.36      0.37       367\n",
      "           2       0.68      0.69      0.69      3691\n",
      "           3       0.47      0.32      0.38       211\n",
      "           4       0.67      0.58      0.62      3427\n",
      "           5       0.63      0.33      0.43       712\n",
      "\n",
      "   micro avg       0.62      0.67      0.64     14498\n",
      "   macro avg       0.57      0.51      0.53     14498\n",
      "weighted avg       0.62      0.67      0.64     14498\n",
      " samples avg       0.07      0.06      0.06     14498\n",
      "\n",
      "None\n",
      "Test accuracy is 0.9246772327987746\n",
      "Test accuracy is 0.9929819625496265\n",
      "Test accuracy is 0.9637375347775798\n",
      "Test accuracy is 0.9965613179530464\n",
      "Test accuracy is 0.9622526493482134\n",
      "Test accuracy is 0.9903404295226484\n",
      "Mean Accuracy is 0.9717585211583147\n",
      "None\n"
     ]
    },
    {
     "name": "stderr",
     "output_type": "stream",
     "text": [
      "/Users/Zhenfeng/anaconda3/lib/python3.7/site-packages/sklearn/metrics/classification.py:1143: UndefinedMetricWarning: Precision and F-score are ill-defined and being set to 0.0 in samples with no predicted labels.\n",
      "  'precision', 'predicted', average, warn_for)\n",
      "/Users/Zhenfeng/anaconda3/lib/python3.7/site-packages/sklearn/metrics/classification.py:1145: UndefinedMetricWarning: Recall and F-score are ill-defined and being set to 0.0 in samples with no true labels.\n",
      "  'recall', 'true', average, warn_for)\n"
     ]
    }
   ],
   "source": [
    "print(get_classification_report(y_test, preds))\n",
    "print(get_accuracy(y_test, preds))"
   ]
  }
 ],
 "metadata": {
  "kernelspec": {
   "display_name": "Python 3",
   "language": "python",
   "name": "python3"
  },
  "language_info": {
   "codemirror_mode": {
    "name": "ipython",
    "version": 3
   },
   "file_extension": ".py",
   "mimetype": "text/x-python",
   "name": "python",
   "nbconvert_exporter": "python",
   "pygments_lexer": "ipython3",
   "version": "3.7.2"
  }
 },
 "nbformat": 4,
 "nbformat_minor": 2
}
